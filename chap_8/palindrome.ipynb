{
 "cells": [
  {
   "cell_type": "code",
   "execution_count": 1,
   "id": "c8795a58-90b9-42a5-8747-71c3d9675276",
   "metadata": {},
   "outputs": [],
   "source": [
    "dictionary = open('/usr/share/dict/web2').read()"
   ]
  },
  {
   "cell_type": "code",
   "execution_count": 2,
   "id": "adf9c8ae-0481-4779-b2bf-2baf03630a00",
   "metadata": {},
   "outputs": [],
   "source": [
    "wordList = dictionary.split('\\n')"
   ]
  },
  {
   "cell_type": "code",
   "execution_count": 3,
   "id": "8f2a4680-37d8-4850-978a-086ec32fc60f",
   "metadata": {},
   "outputs": [
    {
     "data": {
      "text/plain": [
       "['A',\n",
       " 'a',\n",
       " 'aa',\n",
       " 'aal',\n",
       " 'aalii',\n",
       " 'aam',\n",
       " 'Aani',\n",
       " 'aardvark',\n",
       " 'aardwolf',\n",
       " 'Aaron']"
      ]
     },
     "execution_count": 3,
     "metadata": {},
     "output_type": "execute_result"
    }
   ],
   "source": [
    "wordList[:10]"
   ]
  },
  {
   "cell_type": "code",
   "execution_count": 4,
   "id": "3809ed1d-354b-4671-a267-70b4dece2c53",
   "metadata": {},
   "outputs": [],
   "source": [
    "def reverse(word):\n",
    "    word_reverse = []\n",
    "    for i in range(len(word)):\n",
    "        word_reverse.append(word[len(word)-i-1])\n",
    "    return ''.join(word_reverse)"
   ]
  },
  {
   "cell_type": "code",
   "execution_count": 5,
   "id": "b5d470ad-6d27-48ce-b793-c154b8f1ebb7",
   "metadata": {},
   "outputs": [
    {
     "data": {
      "text/plain": [
       "'nekcihc'"
      ]
     },
     "execution_count": 5,
     "metadata": {},
     "output_type": "execute_result"
    }
   ],
   "source": [
    "reverse('chicken')"
   ]
  },
  {
   "cell_type": "code",
   "execution_count": 6,
   "id": "f366eda2-5a5c-4b4e-b8ed-fedc3d45d696",
   "metadata": {},
   "outputs": [
    {
     "data": {
      "text/plain": [
       "['A',\n",
       " 'a',\n",
       " 'aa',\n",
       " 'aba',\n",
       " 'Abba',\n",
       " 'acca',\n",
       " 'Ada',\n",
       " 'Adda',\n",
       " 'adda',\n",
       " 'Adinida',\n",
       " 'affa',\n",
       " 'aga',\n",
       " 'aha',\n",
       " 'Ajaja',\n",
       " 'ajaja',\n",
       " 'Aka',\n",
       " 'aka',\n",
       " 'Akka',\n",
       " 'ala',\n",
       " 'Alala',\n",
       " 'alala',\n",
       " 'alula',\n",
       " 'ama',\n",
       " 'Amma',\n",
       " 'amma',\n",
       " 'Ana',\n",
       " 'ana',\n",
       " 'anana',\n",
       " 'Anna',\n",
       " 'anna',\n",
       " 'apa',\n",
       " 'ara',\n",
       " 'Arara',\n",
       " 'arara',\n",
       " 'Asa',\n",
       " 'Ata',\n",
       " 'Atta',\n",
       " 'atta',\n",
       " 'ava',\n",
       " 'awa',\n",
       " 'B',\n",
       " 'b',\n",
       " 'Bab',\n",
       " 'bib',\n",
       " 'Bob',\n",
       " 'bob',\n",
       " 'boob',\n",
       " 'bub',\n",
       " 'C',\n",
       " 'c',\n",
       " 'civic',\n",
       " 'D',\n",
       " 'd',\n",
       " 'dad',\n",
       " 'deed',\n",
       " 'deedeed',\n",
       " 'degged',\n",
       " 'did',\n",
       " 'dod',\n",
       " 'dud',\n",
       " 'E',\n",
       " 'e',\n",
       " 'eke',\n",
       " 'elle',\n",
       " 'eme',\n",
       " 'ere',\n",
       " 'Eve',\n",
       " 'eve',\n",
       " 'Ewe',\n",
       " 'ewe',\n",
       " 'eye',\n",
       " 'F',\n",
       " 'f',\n",
       " 'G',\n",
       " 'g',\n",
       " 'gag',\n",
       " 'gig',\n",
       " 'gog',\n",
       " 'H',\n",
       " 'h',\n",
       " 'hah',\n",
       " 'hallah',\n",
       " 'huh',\n",
       " 'I',\n",
       " 'i',\n",
       " 'ihi',\n",
       " 'imi',\n",
       " 'immi',\n",
       " 'J',\n",
       " 'j',\n",
       " 'K',\n",
       " 'k',\n",
       " 'kakkak',\n",
       " 'Kassak',\n",
       " 'kayak',\n",
       " 'Kazak',\n",
       " 'keek',\n",
       " 'kelek',\n",
       " 'L',\n",
       " 'l',\n",
       " 'lemel',\n",
       " 'level',\n",
       " 'M',\n",
       " 'm',\n",
       " 'maam',\n",
       " 'madam',\n",
       " 'Malayalam',\n",
       " 'Mam',\n",
       " 'mem',\n",
       " 'mesem',\n",
       " 'mim',\n",
       " 'minim',\n",
       " 'mum',\n",
       " 'murdrum',\n",
       " 'N',\n",
       " 'n',\n",
       " 'Nan',\n",
       " 'nan',\n",
       " 'non',\n",
       " 'noon',\n",
       " 'nun',\n",
       " 'O',\n",
       " 'o',\n",
       " 'Ofo',\n",
       " 'oho',\n",
       " 'Oto',\n",
       " 'Otto',\n",
       " 'otto',\n",
       " 'P',\n",
       " 'p',\n",
       " 'pap',\n",
       " 'peep',\n",
       " 'pep',\n",
       " 'pip',\n",
       " 'poop',\n",
       " 'Pop',\n",
       " 'pop',\n",
       " 'pup',\n",
       " 'Q',\n",
       " 'q',\n",
       " 'R',\n",
       " 'r',\n",
       " 'radar',\n",
       " 'redder',\n",
       " 'refer',\n",
       " 'repaper',\n",
       " 'retter',\n",
       " 'rever',\n",
       " 'reviver',\n",
       " 'rotator',\n",
       " 'rotor',\n",
       " 'S',\n",
       " 's',\n",
       " 'Samas',\n",
       " 'Senones',\n",
       " 'Seres',\n",
       " 'siris',\n",
       " 'Sis',\n",
       " 'sis',\n",
       " 'sooloos',\n",
       " 'Sus',\n",
       " 'T',\n",
       " 't',\n",
       " 'Tat',\n",
       " 'tat',\n",
       " 'tebbet',\n",
       " 'Tebet',\n",
       " 'teet',\n",
       " 'tenet',\n",
       " 'terret',\n",
       " 'tit',\n",
       " 'toot',\n",
       " 'tot',\n",
       " 'tst',\n",
       " 'tut',\n",
       " 'tyt',\n",
       " 'U',\n",
       " 'u',\n",
       " 'ulu',\n",
       " 'ululu',\n",
       " 'umu',\n",
       " 'Uru',\n",
       " 'utu',\n",
       " 'V',\n",
       " 'v',\n",
       " 'W',\n",
       " 'w',\n",
       " 'waw',\n",
       " 'wow',\n",
       " 'X',\n",
       " 'x',\n",
       " 'Y',\n",
       " 'y',\n",
       " 'yaray',\n",
       " 'yoy',\n",
       " 'Z',\n",
       " 'z',\n",
       " '']"
      ]
     },
     "execution_count": 6,
     "metadata": {},
     "output_type": "execute_result"
    }
   ],
   "source": [
    "palindrome = []\n",
    "for word in wordList:\n",
    "    if word.lower() == reverse(word).lower():\n",
    "        palindrome.append(word)\n",
    "palindrome"
   ]
  },
  {
   "cell_type": "code",
   "execution_count": 7,
   "id": "3610dd57-f499-4cdb-ab7c-078940bbacac",
   "metadata": {},
   "outputs": [
    {
     "data": {
      "text/plain": [
       "198"
      ]
     },
     "execution_count": 7,
     "metadata": {},
     "output_type": "execute_result"
    }
   ],
   "source": [
    "len(palindrome)"
   ]
  },
  {
   "cell_type": "code",
   "execution_count": 9,
   "id": "64c9568c-d1b0-4db8-acca-1b3beb8ba7ab",
   "metadata": {},
   "outputs": [
    {
     "data": {
      "text/plain": [
       "'/Users/jieyanzhu/Desktop/Effective Computation'"
      ]
     },
     "execution_count": 9,
     "metadata": {},
     "output_type": "execute_result"
    }
   ],
   "source": [
    "pwd"
   ]
  },
  {
   "cell_type": "code",
   "execution_count": 11,
   "id": "a3ab5cab-5208-4da1-b606-69ca9acbbf54",
   "metadata": {},
   "outputs": [],
   "source": [
    "palindrometxt = open('palindrome.txt', 'w+')\n",
    "for word in palindrome:\n",
    "    palindrometxt.write(word+' ')"
   ]
  },
  {
   "cell_type": "code",
   "execution_count": null,
   "id": "cec2fdae-5f3b-413c-be7a-346c6bef622a",
   "metadata": {},
   "outputs": [],
   "source": []
  }
 ],
 "metadata": {
  "kernelspec": {
   "display_name": "Python 3",
   "language": "python",
   "name": "python3"
  },
  "language_info": {
   "codemirror_mode": {
    "name": "ipython",
    "version": 3
   },
   "file_extension": ".py",
   "mimetype": "text/x-python",
   "name": "python",
   "nbconvert_exporter": "python",
   "pygments_lexer": "ipython3",
   "version": "3.8.8"
  }
 },
 "nbformat": 4,
 "nbformat_minor": 5
}
